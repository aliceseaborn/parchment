{
 "cells": [
  {
   "cell_type": "markdown",
   "id": "b79c7557-5ed2-4d7a-8b40-9b5fd19cbd22",
   "metadata": {},
   "source": [
    "# Development\n",
    "\n",
    "- For each page, find and label each first instance of glossary terms from the appropriate glossary file\n",
    "- Automatically create all indexes \n"
   ]
  },
  {
   "cell_type": "markdown",
   "id": "cff990a8-f376-4fd5-b78b-266c73f61c9b",
   "metadata": {},
   "source": [
    "### Glossary Term Labels"
   ]
  },
  {
   "cell_type": "markdown",
   "id": "ccb76b67-f2b5-40f0-9d79-7316592dbfac",
   "metadata": {},
   "source": [
    "Search through a glossary file and identify all terms defined therein."
   ]
  },
  {
   "cell_type": "code",
   "execution_count": 32,
   "id": "dbff1794-c4ff-4a45-897d-d1eaf7293eff",
   "metadata": {},
   "outputs": [
    {
     "data": {
      "text/plain": [
       "['Anthropod',\n",
       " 'Hemocoel',\n",
       " 'Pedicle',\n",
       " 'Cephalothorax',\n",
       " 'Hemocyanin',\n",
       " 'Haemolymph',\n",
       " 'Spiracles',\n",
       " 'Ectotherms',\n",
       " 'Dragline',\n",
       " 'Opisthosoma',\n",
       " 'Fecund']"
      ]
     },
     "execution_count": 32,
     "metadata": {},
     "output_type": "execute_result"
    }
   ],
   "source": [
    "# -------------------- GET TERMS FROM GLOSSARY -------------------- #\n",
    "\n",
    "from pathlib import Path\n",
    "\n",
    "def get_terms_from_glossary(glossary_path):\n",
    "    with open(Path(glossary_path)) as glossary:\n",
    "        content = glossary.read().splitlines()\n",
    "        terms = list()\n",
    "        for line in content:\n",
    "            term = \"\"\n",
    "            if line.count(\"\\t\") == 1:\n",
    "                term = line.replace(\"\\t\", \"\")\n",
    "                if term != \"\":\n",
    "                    terms.append(term)\n",
    "        glossary.close()\n",
    "    return terms\n",
    "    \n",
    "get_terms_from_glossary(\"source/spiders/glossary.rst\")"
   ]
  },
  {
   "cell_type": "markdown",
   "id": "e32483d6-a9fb-40af-8bf8-4deda0fb4499",
   "metadata": {},
   "source": [
    "Parse a page to correctly find and label the first instance of each relevant glossary term."
   ]
  },
  {
   "cell_type": "code",
   "execution_count": 31,
   "id": "29122d1f-e198-440c-841f-b0ccb9f4777f",
   "metadata": {},
   "outputs": [
    {
     "name": "stdout",
     "output_type": "stream",
     "text": [
      "**************************************************\n",
      "Anatomy\n",
      "**************************************************\n",
      "\n",
      "Like other arthropods, spiders are coelomates in which the coelom is reduced to small areas around the reproductive and excretory systems. Its place is largely taken by a :term:`hemocoel`, a cavity that runs most of the length of the body and through which blood flows. The heart is a tube in the upper part of the body, with a few ostia that act as non-return valves allowing blood to enter the heart from the :term:`hemocoel` but prevent it from leaving before it reaches the front end. However, in spiders, it occupies only the upper part of the abdomen, and blood is discharged into the :term:`hemocoel` by one artery that opens at the rear end of the abdomen and by branching arteries that pass through the :term:`pedicle` and open into several parts of the :term:`cephalothorax`. Hence spiders have open circulatory systems. The blood of many spiders that have book lungs contains the respiratory pigment :term:`hemocyanin` to make oxygen transport more efficient.\n",
      "\n",
      ".. figure:: ../_static/figures/spiders/anatomy.png\n",
      "\t:align: center\n",
      "\t:scale: 35 %\n",
      "\n",
      "\n",
      "Spiders have developed several different respiratory anatomies, based on book lungs, a tracheal system, or both. Mygalomorph and Mesothelae spiders have two pairs of book lungs filled with :term:`haemolymph`, where openings on the ventral surface of the abdomen allow air to enter and diffuse oxygen. This is also the case for some basal araneomorph spiders, like the family Hypochilidae, but the remaining members of this group have just the anterior pair of book lungs intact while the posterior pair of breathing organs are partly or fully modified into tracheae, through which oxygen is diffused into the :term:`haemolymph` or directly to the tissue and organs. The tracheal system has most likely evolved in small ancestors to help resist desiccation. The trachea were originally connected to the surroundings through a pair of openings called :term:`spiracles`, but in the majority of spiders this pair of :term:`spiracles` has fused into a single one in the middle, and moved backwards close to the spinnerets. Spiders that have tracheae generally have higher metabolic rates and better water conservation. Spiders are :term:`ectotherms`, so environmental temperatures affect their activity.\n",
      "\n",
      "\n"
     ]
    }
   ],
   "source": [
    "# -------------------- FIND GLOSSARY TERMS -------------------- #\n",
    "\n",
    "import re\n",
    "from pathlib import Path\n",
    "\n",
    "def label_glossary_terms_in_page(page_path, terms):\n",
    "    with open(Path(page_path)) as page:\n",
    "        content = page.read()\n",
    "        for term in terms:\n",
    "            if (content.count(term) > 0):\n",
    "                content = re.sub(f'{term}(?=[.,\\s]|$)', f':term:`{term}`', content, count=1)\n",
    "            if (content.count(term.lower()) > 0):\n",
    "                content = re.sub(f'{term.lower()}(?=[.,\\s]|$)', f':term:`{term.lower()}`', content, count=1)\n",
    "        page.close()\n",
    "    return content\n",
    "    \n",
    "terms = get_terms_from_glossary(\"source/spiders/glossary.rst\")\n",
    "content = label_glossary_terms_in_page(\"source/spiders/anatomy.rst\", terms)\n",
    "print(content)"
   ]
  },
  {
   "cell_type": "markdown",
   "id": "76c3bcc7-b92a-4732-a3c3-e62effe312af",
   "metadata": {},
   "source": [
    "Write new content to a given page."
   ]
  },
  {
   "cell_type": "code",
   "execution_count": 3,
   "id": "f6f82937-0d95-4182-bbc9-e57e6a5c63c5",
   "metadata": {},
   "outputs": [],
   "source": [
    "# -------------------- COMMIT PAGE CHANGES -------------------- #\n",
    "\n",
    "from pathlib import Path\n",
    "\n",
    "def commit_page_changes(page_path, content):\n",
    "    with open(Path(page_path), \"w\") as page:\n",
    "        page.write(content)\n",
    "        page.close()\n",
    "    \n",
    "glossary_path = \"source/spiders/glossary.rst\"\n",
    "terms = get_terms_from_glossary(glossary_path)\n",
    "\n",
    "page_path = \"source/spiders/anatomy.rst\"\n",
    "content = find_glossary_terms(page_path, terms)\n",
    "\n",
    "commit_page_changes(page_path, content)"
   ]
  },
  {
   "cell_type": "markdown",
   "id": "f6fc6190-08ba-4e99-bcfc-dbeb94f4c14b",
   "metadata": {},
   "source": [
    "### Index Creation"
   ]
  },
  {
   "cell_type": "markdown",
   "id": "f21a5545-5fc6-45dd-8d16-134c9b78521f",
   "metadata": {},
   "source": [
    "Remove new lines at the end of a file"
   ]
  },
  {
   "cell_type": "code",
   "execution_count": 30,
   "id": "3c37a45c-76d3-4ebc-b621-1bb6da9845b1",
   "metadata": {},
   "outputs": [],
   "source": [
    "# -------------------- PRUNE ENDING NEWLINES -------------------- #\n",
    "\n",
    "def prune_ending_newlines(page_path):\n",
    "    with open(page_path, mode='r') as file:\n",
    "            content = file.read()\n",
    "            file.close()\n",
    "    while content[-1] == \"\\n\":\n",
    "        content = content[0:-1]\n",
    "    commit_page_changes(page_path, content)\n",
    "    \n",
    "page_path = \"./source/index.rst\"\n",
    "prune_ending_newlines(page_path)"
   ]
  },
  {
   "cell_type": "markdown",
   "id": "d4d83efa-0f6d-4fad-8416-03326ae53d96",
   "metadata": {},
   "source": [
    "Remove all text after the toctree entry"
   ]
  },
  {
   "cell_type": "code",
   "execution_count": 33,
   "id": "8e98a008-f8bb-49a4-bf44-1e3cd8d1a3d9",
   "metadata": {},
   "outputs": [],
   "source": [
    "# -------------------- REMOVE INDEX -------------------- #\n",
    "\n",
    "def remove_index(index_fle_path):\n",
    "    with open(index_file_path, mode='r') as file:\n",
    "        content = file.read()\n",
    "        content = content.split(\"\\n.. toctree:\")[0]\n",
    "        file.close()\n",
    "    commit_page_changes(index_file_path, content)\n",
    "    prune_ending_newlines(index_file_path)\n",
    "\n",
    "index_file_path = \"./source/gilbert-sullivan/0-index.rst\"\n",
    "remove_index(index_file_path)"
   ]
  },
  {
   "cell_type": "code",
   "execution_count": 34,
   "id": "5e68e7f9-2d90-48f3-b408-a67e3858ab68",
   "metadata": {},
   "outputs": [],
   "source": [
    "# -------------------- GLOBAL INDEX -------------------- #\n",
    "\n",
    "import os\n",
    "\n",
    "directory = \"./source/\"\n",
    "\n",
    "def render_global_index(directory):\n",
    "    directories = str()\n",
    "    files = os.listdir(directory)\n",
    "    for file in files:\n",
    "        if file[0] != \".\" and file[0:2] != \"0-\":\n",
    "            if os.path.isdir(directory+file):\n",
    "                directories += f\"\\t{file}/0-index.rst\\n\"\n",
    "    return \"\\n\\n\\n.. toctree::\\n\\t:maxdepth: 1\\n\\n\"+directories+\"\\n\"\n",
    "\n",
    "# global_index = render_global_index(directory)\n",
    "# print(global_index)\n",
    "\n",
    "\n",
    "def commit_global_index(directory):\n",
    "    index_file_path = directory+\"index.rst\"\n",
    "    remove_index(index_file_path)\n",
    "    index = render_global_index(directory)\n",
    "    with open(index_file_path, mode='r') as file:\n",
    "        content = file.read()\n",
    "        file.close()\n",
    "    commit_page_changes(index_file_path, content+index)\n",
    "\n",
    "commit_global_index(directory)"
   ]
  },
  {
   "cell_type": "code",
   "execution_count": 35,
   "id": "58407481-e1c8-4556-9341-f9bbc0dadf85",
   "metadata": {},
   "outputs": [],
   "source": [
    "# -------------------- LOCAL INDEX -------------------- #\n",
    "\n",
    "import os\n",
    "\n",
    "directory = \"source/gilbert-sullivan\"\n",
    "\n",
    "def render_local_index(directory):\n",
    "    directories = str()\n",
    "    pages = str()\n",
    "    files = os.listdir(directory)\n",
    "    for file in files:\n",
    "        if file[0] != \".\" and file[0:2] != \"0-\":\n",
    "            if os.path.isdir(directory+\"/\"+file):\n",
    "                directories += f\"\\t{file}/0-index.rst\\n\"\n",
    "            elif os.path.isfile(directory+\"/\"+file):\n",
    "                pages += f\"\\t{file}\\n\"\n",
    "    return \"\\n\\n\\n.. toctree::\\n\\t:maxdepth: 1\\n\\n\"+directories+pages+\"\\n\"\n",
    "    \n",
    "# local_index = render_local_index(directory)\n",
    "# print(local_index)\n",
    "\n",
    "\n",
    "def commit_local_index(directory):\n",
    "    index_file_path = directory+\"/0-index.rst\"\n",
    "    remove_index(index_file_path)\n",
    "    index = render_local_index(directory)\n",
    "    with open(index_file_path, mode='r') as file:\n",
    "        content = file.read()\n",
    "        file.close()\n",
    "    commit_page_changes(index_file_path, content+index)\n",
    "\n",
    "commit_local_index(directory)"
   ]
  },
  {
   "cell_type": "code",
   "execution_count": 10,
   "id": "388723d4-9aff-4113-acc0-ec3554727f76",
   "metadata": {},
   "outputs": [],
   "source": [
    "# -------------------- RECURSIVELY LIST DIRECTORIES -------------------- #\n",
    "\n",
    "import os\n",
    "\n",
    "def recursively_list_directories(root_directory, directories):\n",
    "    for file in os.listdir(root_directory):\n",
    "        if file[0] != \".\":\n",
    "            directory = os.path.join(root_directory, file)\n",
    "            if os.path.isdir(directory):\n",
    "                directories.append(directory)\n",
    "                recursively_list_directories(directory, directories)\n",
    "            \n",
    "    \n",
    "root_directory = \"./source/\"\n",
    "directories = list()\n",
    "recursively_list_directories(root_directory, directories)\n"
   ]
  },
  {
   "cell_type": "code",
   "execution_count": 40,
   "id": "091f2c89-bc1c-490b-8e39-53697f269a7a",
   "metadata": {},
   "outputs": [],
   "source": [
    "# -------------------- COMMIT ALL LOCAL INDECIES -------------------- #\n",
    "\n",
    "root_directory = \"./source/\"\n",
    "remove_index(root_directory+\"index.rst\")\n",
    "commit_global_index(root_directory)\n",
    "\n",
    "# directories = list()\n",
    "# recursively_list_directories(root_directory, directories)\n",
    "# for directory in directories:\n",
    "#     print(directory+\"/0-index.rst\")\n",
    "#     remove_index(directory+\"/0-index.rst\")\n",
    "#     commit_local_index(directory)\n",
    "#     print(\"Done.\")\n",
    "\n"
   ]
  },
  {
   "cell_type": "code",
   "execution_count": 39,
   "id": "07dbb084-7a01-4521-bd36-c6d364a1ac8a",
   "metadata": {},
   "outputs": [],
   "source": [
    "directory = \"./source/gilbert-sullivan\"\n",
    "remove_index(directory+\"/0-index.rst\")\n",
    "commit_local_index(directory)"
   ]
  },
  {
   "cell_type": "code",
   "execution_count": 27,
   "id": "e6c36f32-010d-4a43-bc22-196396cd409e",
   "metadata": {},
   "outputs": [],
   "source": [
    "directory = \"./source/spiders\"\n",
    "\n",
    "remove_index(directory+\"/0-index.rst\")\n",
    "# index_file_path = directory+\"/0-index.rst\"\n",
    "# with open(index_file_path, mode='r') as file:\n",
    "#     content = file.read()\n",
    "#     content = content.split(\"\\n.. toctree:\")[0]\n",
    "# commit_page_changes(index_file_path, content)\n",
    "# prune_ending_newlines(index_file_path)\n",
    "\n",
    "commit_local_index(directory)"
   ]
  },
  {
   "cell_type": "code",
   "execution_count": null,
   "id": "d58666d3-9711-4d39-878d-1f79f1703a84",
   "metadata": {},
   "outputs": [],
   "source": [
    "%reset -f\n",
    "\n",
    "from scripts.commit_"
   ]
  },
  {
   "cell_type": "code",
   "execution_count": null,
   "id": "557f12a8-fc2b-413a-9d97-bd33fae71363",
   "metadata": {},
   "outputs": [],
   "source": []
  },
  {
   "cell_type": "code",
   "execution_count": null,
   "id": "f780f3ee-5e36-42a5-b4a4-16cc4e14bfbe",
   "metadata": {},
   "outputs": [],
   "source": []
  },
  {
   "cell_type": "code",
   "execution_count": null,
   "id": "033f1abc-08c7-4e14-9f76-899f5599c626",
   "metadata": {},
   "outputs": [],
   "source": []
  }
 ],
 "metadata": {
  "kernelspec": {
   "display_name": "Python 3 (ipykernel)",
   "language": "python",
   "name": "python3"
  },
  "language_info": {
   "codemirror_mode": {
    "name": "ipython",
    "version": 3
   },
   "file_extension": ".py",
   "mimetype": "text/x-python",
   "name": "python",
   "nbconvert_exporter": "python",
   "pygments_lexer": "ipython3",
   "version": "3.10.6"
  }
 },
 "nbformat": 4,
 "nbformat_minor": 5
}
